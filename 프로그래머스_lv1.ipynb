{
  "nbformat": 4,
  "nbformat_minor": 0,
  "metadata": {
    "colab": {
      "private_outputs": true,
      "provenance": [],
      "name": "프로그래머스 lv1.ipynb",
      "authorship_tag": "ABX9TyONaolRnY1hBtUuRS3Ytrbm",
      "include_colab_link": true
    },
    "kernelspec": {
      "name": "python3",
      "display_name": "Python 3"
    },
    "language_info": {
      "name": "python"
    }
  },
  "cells": [
    {
      "cell_type": "markdown",
      "metadata": {
        "id": "view-in-github",
        "colab_type": "text"
      },
      "source": [
        "<a href=\"https://colab.research.google.com/github/hyesukim1/Audio_study/blob/main/%ED%94%84%EB%A1%9C%EA%B7%B8%EB%9E%98%EB%A8%B8%EC%8A%A4_lv1.ipynb\" target=\"_parent\"><img src=\"https://colab.research.google.com/assets/colab-badge.svg\" alt=\"Open In Colab\"/></a>"
      ]
    },
    {
      "cell_type": "code",
      "source": [
        "# 짝수와 홀수\n",
        "def solution(num):\n",
        "    if num % 2 == 0:\n",
        "        return 'Even'\n",
        "    else:\n",
        "        return 'Odd'\n",
        "        "
      ],
      "metadata": {
        "id": "jv0UE8rciR8y"
      },
      "execution_count": null,
      "outputs": []
    },
    {
      "cell_type": "code",
      "source": [
        "# 평균 구하기\n",
        "def solution(arr):\n",
        "    ans = sum(arr) / len(arr)\n",
        "    return ans\n",
        "\n",
        "# for 문을 쓸필요가 없었음"
      ],
      "metadata": {
        "id": "30vQWwiYiZxB"
      },
      "execution_count": null,
      "outputs": []
    },
    {
      "cell_type": "code",
      "source": [
        "# 약수의 합\n",
        "def solution(n):\n",
        "    lst =  []\n",
        "    # n을 받아 약수를 리스트로 구하기\n",
        "    for i in range(1, n+1):\n",
        "       if n % i ==0: # 숫자 나눈 후 나머지 0이면 약수\n",
        "            lst.append(i)\n",
        "    print(lst)\n",
        "    # 약수 더하기\n",
        "    answer = sum(lst)\n",
        "    return answer"
      ],
      "metadata": {
        "id": "xhWj0FFVjOiK"
      },
      "execution_count": null,
      "outputs": []
    },
    {
      "cell_type": "code",
      "source": [
        "# 자릿수 더하기\n",
        "def solution(n):\n",
        "    num = [int(i) for i in str(n)]\n",
        "    # print(num)\n",
        "    answer = sum(num)\n",
        "    return answer"
      ],
      "metadata": {
        "id": "igDtvRhrnn1l"
      },
      "execution_count": null,
      "outputs": []
    },
    {
      "cell_type": "code",
      "source": [
        "# 정수 제곱근 판별\n",
        "import math\n",
        "\n",
        "def solution(n):\n",
        "    # n이 제곱근이면 n \n",
        "    num = math.sqrt(n)\n",
        "    if int(num) == num:\n",
        "        return (num+1) ** 2 \n",
        "    else:\n",
        "        return -1"
      ],
      "metadata": {
        "id": "B7z7MPT9q0oK"
      },
      "execution_count": null,
      "outputs": []
    },
    {
      "cell_type": "code",
      "source": [
        "# 자연수 뒤집어 배열로 만들기\n",
        "\n",
        "def solution(n):\n",
        "    num = [int(i) for i in str(n) ]\n",
        "    # print(num)\n",
        "    answer = num.reverse() \n",
        "    # reverse는 해당 리스트만 뒤섞어주고\n",
        "    # 값을 반환하지 않음\n",
        "    return num"
      ],
      "metadata": {
        "id": "2o681HhytlRr"
      },
      "execution_count": null,
      "outputs": []
    },
    {
      "cell_type": "code",
      "source": [
        "# 문자열 내 p와 y의 개수\n",
        "def solution(s):\n",
        "    # 소문자로 맞춰서 리스트에 넣고\n",
        "    lst = [i for i in str(s.lower())]\n",
        "    # p,y 갯수 세고\n",
        "    # 같으면 T, 다르면 F\n",
        "    ## 리스트 안에 원소 갯수 구할땐 list.count('원소')\n",
        "    if lst.count('p') == lst.count('y'):\n",
        "        return True\n",
        "    else:\n",
        "        return False"
      ],
      "metadata": {
        "id": "-9_nYXOUzDDl"
      },
      "execution_count": null,
      "outputs": []
    },
    {
      "cell_type": "code",
      "source": [
        "# 하샤드 수\n",
        "def solution(x):\n",
        "       return x % sum([int(b) for b in str(x)]) == 0"
      ],
      "metadata": {
        "id": "1jZtuvdnzHGr"
      },
      "execution_count": null,
      "outputs": []
    },
    {
      "cell_type": "code",
      "source": [
        "# 정수 내림차순으로 배치하기\n",
        "\n",
        "def solution(n):\n",
        "    ans = [int(a) for a in str(n)]\n",
        "    lst = sorted(ans, reverse=True)\n",
        "    lst_join = \"\".join(map(str, lst))\n",
        "    return int(lst_join)"
      ],
      "metadata": {
        "id": "mAf6HjBOJDej"
      },
      "execution_count": null,
      "outputs": []
    },
    {
      "cell_type": "code",
      "source": [
        "# 문자열 정수로 나누기 \n",
        "def solution(s):\n",
        "    return int(s)"
      ],
      "metadata": {
        "id": "60mSH8_OQskL"
      },
      "execution_count": null,
      "outputs": []
    },
    {
      "cell_type": "code",
      "source": [
        "# x만큼 간격이 있는 n개의 숫자\n",
        "def solution(x, n):\n",
        "    answer = [a for a in range(1, n+1)]\n",
        "    ans = []\n",
        "    for i in answer:\n",
        "        ans.append(x * i)\n",
        "    return ans"
      ],
      "metadata": {
        "id": "VRV_RP7GSyn7"
      },
      "execution_count": null,
      "outputs": []
    },
    {
      "cell_type": "code",
      "source": [
        "# 나머지가 1이 되는 수 찾기\n",
        "\n",
        "def solution(n):\n",
        "    for i in range(1, n):\n",
        "        if n % i == 1:\n",
        "            return i"
      ],
      "metadata": {
        "id": "agBbJYlPSxTn"
      },
      "execution_count": null,
      "outputs": []
    },
    {
      "cell_type": "code",
      "source": [
        "# 두 정수 사이의 합\n",
        "def solution(a, b):\n",
        "    total = 0\n",
        "    if a < b:\n",
        "        for i in range(a, b+1):\n",
        "            total += i \n",
        "    else:\n",
        "        for i in range(b, a+1):\n",
        "            total +=i\n",
        "    return total"
      ],
      "metadata": {
        "id": "fpd2YPWWUHEF"
      },
      "execution_count": null,
      "outputs": []
    },
    {
      "cell_type": "code",
      "source": [
        "# 서울에서 김서방 찾기\n",
        "def solution(seoul):\n",
        "    count = 0\n",
        "    for i in seoul:\n",
        "        if i == \"Kim\":\n",
        "            return \"김서방은 {a}에 있다\".format(a=count)\n",
        "        else:\n",
        "            count = count+1\n",
        "\n",
        "# 다른사람의 풀이\n",
        "def findKim(seoul):\n",
        "    return \"김서방은 {}에 있다\".format(seoul.index('Kim'))"
      ],
      "metadata": {
        "id": "LVqCbnCMFHep"
      },
      "execution_count": null,
      "outputs": []
    },
    {
      "cell_type": "code",
      "source": [
        "# 나누어 떨어지는 숫자 배열\n",
        "def solution(arr, divisor):\n",
        "    array = sorted(arr)\n",
        "    lst = [i for i in array if i%divisor == 0]\n",
        "    return lst if len(lst) != 0 else [-1]"
      ],
      "metadata": {
        "id": "nLPQaRpOFS7n"
      },
      "execution_count": null,
      "outputs": []
    },
    {
      "cell_type": "code",
      "source": [
        "# 작은 수 제거하기\n",
        "def solution(arr):\n",
        "    if len(arr) > 1:\n",
        "        arr.remove(min(arr))\n",
        "        return arr\n",
        "    else: \n",
        "        return [-1]"
      ],
      "metadata": {
        "id": "BLx1hS9BW9RT"
      },
      "execution_count": null,
      "outputs": []
    },
    {
      "cell_type": "code",
      "source": [
        "# 없는 숫자 더하기\n",
        "def solution(numbers):\n",
        "    a = sum(numbers)\n",
        "    return 45 - a"
      ],
      "metadata": {
        "id": "vRYcYcuVXBZ5"
      },
      "execution_count": null,
      "outputs": []
    },
    {
      "cell_type": "code",
      "source": [
        "# 가운데 글자 가져오기\n",
        "def solution(s):\n",
        "    if len(s)%2 == 0:\n",
        "        a = len(s)//2 -1\n",
        "        b = len(s)//2 +1\n",
        "        return s[a:b]\n",
        "    else:\n",
        "        a = round(len(s) // 2)\n",
        "        return s[a]"
      ],
      "metadata": {
        "id": "P98U8QgDmSgn"
      },
      "execution_count": null,
      "outputs": []
    },
    {
      "cell_type": "code",
      "source": [
        "# 수박수박수박수박\n",
        "def solution(n):\n",
        "    answer=''\n",
        "    for i in range(n):\n",
        "        if i % 2 == 0:\n",
        "            answer = answer + '수'\n",
        "        else:\n",
        "            answer = answer + '박'\n",
        "    return answer"
      ],
      "metadata": {
        "id": "0UL3a1uvgBse"
      },
      "execution_count": null,
      "outputs": []
    },
    {
      "cell_type": "code",
      "source": [
        "# 문자열 내림차순으로 배치하기\n",
        "def solution(s):\n",
        "    return ''.join(sorted(s, reverse=True))\n",
        "\n",
        "def solution(s):\n",
        "    s = list(s)\n",
        "    s.sort(reverse = True)\n",
        "    answer = \"\"\n",
        "    for i in s:\n",
        "        answer = answer + i\n",
        "    return answer"
      ],
      "metadata": {
        "id": "FjgmQapAf4Ca"
      },
      "execution_count": null,
      "outputs": []
    },
    {
      "cell_type": "code",
      "source": [
        "def solution(s):\n",
        "    if (len(s) == 4 or len(s) == 6) and s.isdigit():\n",
        "        return True\n",
        "    else: \n",
        "        return False\n",
        "            \n",
        "\n",
        "s = \"a234ddddd\"\n",
        "solution(s)"
      ],
      "metadata": {
        "id": "iHFT_b-IkIj2"
      },
      "execution_count": null,
      "outputs": []
    },
    {
      "cell_type": "code",
      "source": [
        "def solution(left, right):\n",
        "    s = []\n",
        "    m = []\n",
        "    for i in range(left, right+1):\n",
        "        a = []\n",
        "        for j in range(1, i+1):\n",
        "            if i % j == 0:\n",
        "                a.append(j)\n",
        "                \n",
        "        if len(a) % 2 == 0:\n",
        "            s.append(i)\n",
        "        else:\n",
        "            m.append(i)\n",
        "    return sum(s) - sum(m)"
      ],
      "metadata": {
        "id": "GVdw06rEkSE9"
      },
      "execution_count": null,
      "outputs": []
    }
  ]
}